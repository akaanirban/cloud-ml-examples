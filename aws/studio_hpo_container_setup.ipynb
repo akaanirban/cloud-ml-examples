{
 "cells": [
  {
   "cell_type": "markdown",
   "source": [
    "<span style=\"display: block; text-align: center; color:#8735fb; font-size:30pt\"> **Using Containers with Estimators** </span>\r\n",
    "\r\n",
    "In this notebook, we cover how to build a container, which must then be published to the Amazon Elastic Container Registry (ECR) to be used for our Estimator object. This notebook is intended to set up a container in the ECR to be used in the [sagemaker_studio/rapids_studio_hpo.ipynb](sagemaker_studio/rapids_studio_hpo.ipynb) example. "
   ],
   "metadata": {}
  },
  {
   "cell_type": "markdown",
   "source": [
    "<span style=\"color:#8735fb; font-size:22pt\"> **Preamble** </span>"
   ],
   "metadata": {}
  },
  {
   "cell_type": "markdown",
   "source": [
    "To get things rolling let's make sure we can query our AWS SageMaker execution role and session as well as our account ID and AWS region."
   ],
   "metadata": {}
  },
  {
   "cell_type": "code",
   "execution_count": null,
   "source": [
    "import sagemaker\r\n",
    "from helper_functions import *"
   ],
   "outputs": [],
   "metadata": {}
  },
  {
   "cell_type": "code",
   "execution_count": null,
   "source": [
    "execution_role = sagemaker.get_execution_role()\r\n",
    "session = sagemaker.Session()\r\n",
    "\r\n",
    "account=!(aws sts get-caller-identity --query Account --output text)\r\n",
    "region=!(aws configure get region)"
   ],
   "outputs": [],
   "metadata": {}
  },
  {
   "cell_type": "code",
   "execution_count": null,
   "source": [
    "account, region"
   ],
   "outputs": [],
   "metadata": {}
  },
  {
   "cell_type": "markdown",
   "source": [
    "<span style=\"color:#8735fb; font-size:22pt\"> **Key Choices** </span>"
   ],
   "metadata": {}
  },
  {
   "cell_type": "markdown",
   "source": [
    "Let's go ahead and choose the configuration options for our HPO run. For more details about the choices being set, please refer to the [RAPIDS + SageMaker HPO extended notebook](rapids_sagemaker_hpo_extended.ipynb). All of these choices will be used to write our Dockerfile to create environment variables within our container; if you are using your own workflow and training scripts, be sure to write your Dockerfile accordingly. "
   ],
   "metadata": {}
  },
  {
   "cell_type": "code",
   "execution_count": null,
   "source": [
    "# please choose dataset directory\r\n",
    "dataset_directory = '3_year' # '1_year', '3_year', '10_year', 'NYC_taxi'"
   ],
   "outputs": [],
   "metadata": {}
  },
  {
   "cell_type": "code",
   "execution_count": null,
   "source": [
    "# please choose learning algorithm\r\n",
    "algorithm_choice = 'XGBoost'\r\n",
    "\r\n",
    "assert (algorithm_choice in ['XGBoost', 'RandomForest', 'KMeans'])"
   ],
   "outputs": [],
   "metadata": {}
  },
  {
   "cell_type": "code",
   "execution_count": null,
   "source": [
    "# please choose cross-validation folds\r\n",
    "cv_folds = 3\r\n",
    "\r\n",
    "assert (cv_folds >= 1)"
   ],
   "outputs": [],
   "metadata": {}
  },
  {
   "cell_type": "code",
   "execution_count": null,
   "source": [
    "# please choose code variant\r\n",
    "ml_workflow_choice = 'singleGPU' \r\n",
    "\r\n",
    "assert (ml_workflow_choice in ['singleCPU', 'singleGPU', 'multiCPU', 'multiGPU'])"
   ],
   "outputs": [],
   "metadata": {}
  },
  {
   "cell_type": "markdown",
   "source": [
    "<span style=\"display: block; text-align: center; color:#8735fb; font-size:30pt\"> **1. ML Workflow** </span>"
   ],
   "metadata": {}
  },
  {
   "cell_type": "markdown",
   "source": [
    "<span style=\"color:#8735fb; font-size:20pt\"> Python ML Workflow </span>"
   ],
   "metadata": {}
  },
  {
   "cell_type": "markdown",
   "source": [
    "To run our training script or build a RAPIDS enabled SageMaker HPO, we first need to build a [SageMaker Estimator](https://sagemaker.readthedocs.io/en/stable/api/training/estimators.html), which to use a custom container requires a URI from the ECR. "
   ],
   "metadata": {}
  },
  {
   "cell_type": "markdown",
   "source": [
    "First, let's switch our working directory to the location of the Estimator entrypoint and library code."
   ],
   "metadata": {}
  },
  {
   "cell_type": "code",
   "execution_count": null,
   "source": [
    "%cd code"
   ],
   "outputs": [],
   "metadata": {
    "collapsed": false,
    "jupyter": {
     "outputs_hidden": false
    }
   }
  },
  {
   "cell_type": "raw",
   "source": [
    "aws/code\r\n",
    "├── Dockerfile\r\n",
    "├── entrypoint.sh\r\n",
    "├── HPOConfig.py\r\n",
    "├── HPODatasets.py\r\n",
    "├── MLWorkflow.py\r\n",
    "├── serve.py\r\n",
    "├── train.py\r\n",
    "└── workflows\r\n",
    "    ├── MLWorkflowMultiCPU.py\r\n",
    "    ├── MLWorkflowMultiGPU.py\r\n",
    "    ├── MLWorkflowSingleCPU.py\r\n",
    "    └── MLWorkflowSingleGPU.py"
   ],
   "metadata": {
    "jupyter": {
     "outputs_hidden": false
    }
   }
  },
  {
   "cell_type": "code",
   "execution_count": null,
   "source": [
    "# %load train.py"
   ],
   "outputs": [],
   "metadata": {}
  },
  {
   "cell_type": "code",
   "execution_count": null,
   "source": [
    "# %load workflows/MLWorkflowSingleGPU.py"
   ],
   "outputs": [],
   "metadata": {}
  },
  {
   "cell_type": "markdown",
   "source": [
    "<span style=\"display: block; text-align: center; color:#8735fb; font-size:30pt\"> **2. Build Estimator** </span>"
   ],
   "metadata": {}
  },
  {
   "cell_type": "markdown",
   "source": [
    "The SageMaker Estimator represents the containerized software stack that AWS SageMaker will replicate to each worker node.\r\n",
    "\r\n",
    "The first step to building our Estimator, is to augment a RAPIDS container with our ML Workflow code from above, and push this image to Amazon Elastic Cloud Registry so it is available to SageMaker.\r\n"
   ],
   "metadata": {}
  },
  {
   "cell_type": "markdown",
   "source": [
    "<span style=\"color:#8735fb; font-size:20pt\"> 2.1 - Containerize and Push to ECR </span>"
   ],
   "metadata": {}
  },
  {
   "cell_type": "markdown",
   "source": [
    "Now let's turn to building our container. Our container can either be built on top of the latest RAPIDS [ nightly ] image as a starting layer or the RAPIDS stable image."
   ],
   "metadata": {}
  },
  {
   "cell_type": "code",
   "execution_count": null,
   "source": [
    "rapids_base_container = 'rapidsai/rapidsai-cloud-ml:latest'"
   ],
   "outputs": [],
   "metadata": {}
  },
  {
   "cell_type": "markdown",
   "source": [
    "Let's also decide on the full name of our container. This is the URI that will eventually be passed into our Estimator object. "
   ],
   "metadata": {}
  },
  {
   "cell_type": "code",
   "execution_count": null,
   "source": [
    "image_base = 'cloud-ml-sagemaker'\r\n",
    "image_tag  = rapids_base_container.split(':')[1]"
   ],
   "outputs": [],
   "metadata": {}
  },
  {
   "cell_type": "code",
   "execution_count": null,
   "source": [
    "ecr_fullname = f\"{account[0]}.dkr.ecr.{region[0]}.amazonaws.com/{image_base}:{image_tag}\""
   ],
   "outputs": [],
   "metadata": {}
  },
  {
   "cell_type": "code",
   "execution_count": null,
   "source": [
    "ecr_fullname"
   ],
   "outputs": [],
   "metadata": {}
  },
  {
   "cell_type": "markdown",
   "source": [
    "<span style=\"color:#8735fb; font-size:18pt\"> 2.1.1 - Write Dockerfile </span>"
   ],
   "metadata": {}
  },
  {
   "cell_type": "markdown",
   "source": [
    "We write out the Dockerfile to disk, and in a few cells execute the docker build command. This Dockerfile is intended to be used with the [RAPIDS + SageMaker Studio HPO notebook](sagemaker_studio/rapids_studio_hpo.ipynb), however you may write your own Dockerfile to use your own container in a similar fashion. \r\n"
   ],
   "metadata": {}
  },
  {
   "cell_type": "markdown",
   "source": [
    "Let's now write our selected RAPIDS image layer as the first FROM statement in the the Dockerfile."
   ],
   "metadata": {}
  },
  {
   "cell_type": "code",
   "execution_count": null,
   "source": [
    "with open('Dockerfile', 'w') as dockerfile: \r\n",
    "    dockerfile.writelines( f'FROM {rapids_base_container} \\n\\n'\r\n",
    "                           f'ENV AWS_DATASET_DIRECTORY=\"{dataset_directory}\"\\n'\r\n",
    "                           f'ENV AWS_ALGORITHM_CHOICE=\"{algorithm_choice}\"\\n'\r\n",
    "                           f'ENV AWS_ML_WORKFLOW_CHOICE=\"{ml_workflow_choice}\"\\n'\r\n",
    "                           f'ENV AWS_CV_FOLDS=\"{cv_folds}\"\\n')"
   ],
   "outputs": [],
   "metadata": {}
  },
  {
   "cell_type": "markdown",
   "source": [
    "Next let's append write the remaining pieces of the Dockerfile, namely adding the sagemaker-training-toolkit, flask, dask-ml, and copying our python code."
   ],
   "metadata": {}
  },
  {
   "cell_type": "code",
   "execution_count": null,
   "source": [
    "%%writefile -a Dockerfile\r\n",
    "\r\n",
    "# ensure printed output/log-messages retain correct order\r\n",
    "ENV PYTHONUNBUFFERED=True\r\n",
    "\r\n",
    "# path where SageMaker looks for code when container runs in the cloud\r\n",
    "ENV CLOUD_PATH=\"/opt/ml/code\"\r\n",
    "\r\n",
    "# copy our latest [local] code into the container \r\n",
    "COPY . $CLOUD_PATH\r\n",
    "\r\n",
    "# make the entrypoint script executable\r\n",
    "RUN chmod +x $CLOUD_PATH/entrypoint.sh\r\n",
    "\r\n",
    "WORKDIR $CLOUD_PATH\r\n",
    "ENTRYPOINT [\"./entrypoint.sh\"]"
   ],
   "outputs": [],
   "metadata": {}
  },
  {
   "cell_type": "markdown",
   "source": [
    "Lastly, let's ensure that our Dockerfile correctly captured our base image selection."
   ],
   "metadata": {}
  },
  {
   "cell_type": "code",
   "execution_count": null,
   "source": [
    "validate_dockerfile(rapids_base_container)\r\n",
    "!cat Dockerfile"
   ],
   "outputs": [],
   "metadata": {}
  },
  {
   "cell_type": "markdown",
   "source": [
    "<span style=\"color:#8735fb; font-size:18pt\"> 2.1.2 Build and Tag </span>"
   ],
   "metadata": {}
  },
  {
   "cell_type": "markdown",
   "source": [
    "The build step will be dominated by the download of the RAPIDS image (base layer). If it's already been downloaded the build will take less than 1 minute."
   ],
   "metadata": {}
  },
  {
   "cell_type": "code",
   "execution_count": null,
   "source": [
    "!docker pull $rapids_base_container"
   ],
   "outputs": [],
   "metadata": {}
  },
  {
   "cell_type": "code",
   "execution_count": null,
   "source": [
    "%%time\r\n",
    "!docker build . -t $ecr_fullname -f Dockerfile"
   ],
   "outputs": [],
   "metadata": {}
  },
  {
   "cell_type": "markdown",
   "source": [
    "<span style=\"color:#8735fb; font-size:18pt\"> 2.1.3 - Publish to Elastic Cloud Registry (ECR) </span>\n",
    "\n",
    "Now that we've built and tagged our container its time to push it to Amazon's container registry (ECR). Once in ECR, AWS SageMaker will be able to leverage our image to build Estimators and run experiments.\n"
   ],
   "metadata": {}
  },
  {
   "cell_type": "markdown",
   "source": [
    "Docker Login to ECR"
   ],
   "metadata": {}
  },
  {
   "cell_type": "code",
   "execution_count": null,
   "source": [
    "docker_login_str = !(aws ecr get-login --region {region[0]} --no-include-email)"
   ],
   "outputs": [],
   "metadata": {}
  },
  {
   "cell_type": "code",
   "execution_count": null,
   "source": [
    "!{docker_login_str[0]}"
   ],
   "outputs": [],
   "metadata": {}
  },
  {
   "cell_type": "markdown",
   "source": [
    "Create ECR repository [ if it doesn't already exist]"
   ],
   "metadata": {}
  },
  {
   "cell_type": "code",
   "execution_count": null,
   "source": [
    "repository_query = !(aws ecr describe-repositories --repository-names $image_base)\r\n",
    "if repository_query[0] == '':\r\n",
    "    !(aws ecr create-repository --repository-name $image_base)"
   ],
   "outputs": [],
   "metadata": {}
  },
  {
   "cell_type": "markdown",
   "source": [
    "Let's now actually push the container to ECR\n",
    "> Note the first push to ECR may take some time (hopefully less than 10 minutes)."
   ],
   "metadata": {}
  },
  {
   "cell_type": "code",
   "execution_count": null,
   "source": [
    "!docker push $ecr_fullname"
   ],
   "outputs": [],
   "metadata": {}
  },
  {
   "cell_type": "markdown",
   "source": [
    "<span style=\"color:#8735fb; font-size:20pt\"> 2.2 - Create Estimator </span>"
   ],
   "metadata": {}
  },
  {
   "cell_type": "markdown",
   "source": [
    "Having built our container [ +custom logic] and pushed it to ECR, we can finally compile all of efforts into an Estimator instance in SageMaker Studio. Navigate to [sagemaker_studio/rapids_studio_hpo.ipynb](sagemaker_studio/rapids_studio_hpo.ipynb) to continue."
   ],
   "metadata": {}
  },
  {
   "cell_type": "markdown",
   "source": [
    "<span style=\"color:#8735fb; font-size:25pt\"> **Rapids References** </span>"
   ],
   "metadata": {}
  },
  {
   "cell_type": "markdown",
   "source": [
    "> [cloud-ml-examples](http://github.com/rapidsai/cloud-ml-examples)\n",
    "\n",
    "> [RAPIDS HPO](https://rapids.ai/hpo)\n",
    "\n",
    "> [cuML Documentation](https://docs.rapids.ai/api/cuml/stable/)"
   ],
   "metadata": {}
  },
  {
   "cell_type": "markdown",
   "source": [
    "<span style=\"color:#8735fb; font-size:25pt\"> **SageMaker References** </span>"
   ],
   "metadata": {}
  },
  {
   "cell_type": "markdown",
   "source": [
    "> [SageMaker Training Toolkit](https://github.com/aws/sagemaker-training-toolkit)\n",
    "\n",
    "> [Estimator Parameters](https://sagemaker.readthedocs.io/en/stable/api/training/estimators.html)\n",
    "\n",
    "> Spot Instances [docs](https://docs.aws.amazon.com/sagemaker/latest/dg/model-managed-spot-training.html), and [blog]()"
   ],
   "metadata": {}
  }
 ],
 "metadata": {
  "instance_type": "ml.t3.medium",
  "kernelspec": {
   "display_name": "conda_python3",
   "language": "python",
   "name": "conda_python3"
  },
  "language_info": {
   "codemirror_mode": {
    "name": "ipython",
    "version": 3
   },
   "file_extension": ".py",
   "mimetype": "text/x-python",
   "name": "python",
   "nbconvert_exporter": "python",
   "pygments_lexer": "ipython3",
   "version": "3.6.13"
  }
 },
 "nbformat": 4,
 "nbformat_minor": 4
}