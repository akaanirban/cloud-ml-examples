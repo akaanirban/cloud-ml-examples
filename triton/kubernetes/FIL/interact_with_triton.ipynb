{
 "cells": [
  {
   "cell_type": "code",
   "execution_count": 14,
   "metadata": {
    "tags": []
   },
   "outputs": [],
   "source": [
    "import os\n",
    "import numpy\n",
    "import subprocess\n",
    "import sys\n",
    "\n",
    "import tritonclient.http as triton_http\n",
    "import tritonclient.grpc as triton_grpc"
   ]
  },
  {
   "cell_type": "code",
   "execution_count": 15,
   "metadata": {},
   "outputs": [],
   "source": [
    "port_cmd = \"kubectl -n istio-system get service istio-ingressgateway -o jsonpath='{.spec.ports[?(@.name==\\\"http2\\\")].port}'\"\n",
    "host_cmd = \"kubectl -n istio-system get service istio-ingressgateway -o jsonpath='{.status.loadBalancer.ingress[0].ip}'\"\n",
    "\n",
    "port = subprocess.check_output(port_cmd.split()).decode('utf-8').replace(\"'\", \"\")\n",
    "host = subprocess.check_output(host_cmd.split()).decode('utf-8').replace(\"'\", \"\")"
   ]
  },
  {
   "cell_type": "code",
   "execution_count": 16,
   "metadata": {
    "collapsed": false,
    "jupyter": {
     "outputs_hidden": false
    },
    "pycharm": {
     "name": "#%%\n"
    }
   },
   "outputs": [],
   "source": [
    "# Set up both HTTP and GRPC clients. Note that the GRPC client is generally\n",
    "# somewhat faster.\n",
    "\n",
    "# Generate dummy data to classify\n",
    "features = 500\n",
    "samples = 10_000\n",
    "data = numpy.random.rand(samples, features).astype('float32')"
   ]
  },
  {
   "cell_type": "code",
   "execution_count": null,
   "metadata": {},
   "outputs": [],
   "source": [
    "http_client = triton_http.InferenceServerClient(\n",
    "    url=f'{host}:{port}',\n",
    "    verbose=False,\n",
    "    concurrency=12\n",
    ")\n",
    "\n",
    "print(f\"Is Server Ready: {http_client.is_server_ready()}\")\n",
    "print(f\"Is FIL model ready: {http_client.is_model_ready('fil')}\")"
   ]
  },
  {
   "cell_type": "code",
   "execution_count": null,
   "metadata": {},
   "outputs": [],
   "source": [
    "# Set up Triton input and output objects for both HTTP and GRPC\n",
    "triton_input_http = triton_http.InferInput(\n",
    "    'input__0',\n",
    "    (samples, features),\n",
    "    'FP32'\n",
    ")\n",
    "\n",
    "triton_input_http.set_data_from_numpy(data, binary_data=True)\n",
    "triton_output_http = triton_http.InferRequestedOutput(\n",
    "    'output__0',\n",
    "    binary_data=True\n",
    ")\n",
    "\n",
    "# Submit inference requests (both HTTP and GRPC)\n",
    "request_http = http_client.infer(\n",
    "    'fil',\n",
    "    model_version='1',\n",
    "    inputs=[triton_input_http],\n",
    "    outputs=[triton_output_http]\n",
    ")"
   ]
  },
  {
   "cell_type": "code",
   "execution_count": 5,
   "metadata": {},
   "outputs": [
    {
     "data": {
      "text/plain": [
       "array([[0.27678204, 0.72321796],\n",
       "       [0.20834464, 0.79165536],\n",
       "       [0.5546981 , 0.44530186],\n",
       "       ...,\n",
       "       [0.53438294, 0.4656171 ],\n",
       "       [0.3188979 , 0.6811021 ],\n",
       "       [0.74689895, 0.25310105]], dtype=float32)"
      ]
     },
     "execution_count": 5,
     "metadata": {},
     "output_type": "execute_result"
    }
   ],
   "source": [
    "result_http = request_http.as_numpy('output__0')\n",
    "result_http"
   ]
  },
  {
   "cell_type": "code",
   "execution_count": 18,
   "metadata": {},
   "outputs": [],
   "source": [
    "grpc_client = triton_grpc.InferenceServerClient(\n",
    "    url=f'{host}:{port}',\n",
    "    verbose = False\n",
    ")"
   ]
  },
  {
   "cell_type": "code",
   "execution_count": 35,
   "metadata": {},
   "outputs": [
    {
     "name": "stdout",
     "output_type": "stream",
     "text": [
      "Is Server Ready: True\n",
      "Is FIL model ready: True\n",
      "name: \"fil\"\n",
      "versions: \"1\"\n",
      "platform: \"fil\"\n",
      "inputs {\n",
      "  name: \"input__0\"\n",
      "  datatype: \"FP32\"\n",
      "  shape: -1\n",
      "  shape: 500\n",
      "}\n",
      "outputs {\n",
      "  name: \"output__0\"\n",
      "  datatype: \"FP32\"\n",
      "  shape: -1\n",
      "  shape: 2\n",
      "}\n",
      "\n"
     ]
    }
   ],
   "source": [
    "print(f\"Is Server Ready: {grpc_client.is_server_ready()}\")\n",
    "print(f\"Is FIL model ready: {grpc_client.is_model_ready('fil')}\")\n",
    "metadata = grpc_client.get_model_metadata('fil')\n",
    "\n",
    "print(metadata)"
   ]
  },
  {
   "cell_type": "code",
   "execution_count": 39,
   "metadata": {},
   "outputs": [],
   "source": [
    "data = numpy.random.rand(samples, features).astype('float32')\n",
    "triton_input_grpc = triton_grpc.InferInput(\n",
    "    'input__0',\n",
    "    [samples, features],\n",
    "    'FP32'\n",
    ")\n",
    "\n",
    "triton_input_grpc.set_data_from_numpy(data)\n",
    "triton_output_grpc = triton_grpc.InferRequestedOutput('output__0')\n",
    "\n",
    "request_grpc = grpc_client.infer(\n",
    "    'fil',\n",
    "    model_version='1',\n",
    "    inputs=[triton_input_grpc],\n",
    "    outputs=[triton_output_grpc]\n",
    ")"
   ]
  },
  {
   "cell_type": "code",
   "execution_count": 41,
   "metadata": {},
   "outputs": [
    {
     "data": {
      "text/plain": [
       "array([[0.26589543, 0.7341046 ],\n",
       "       [0.6134304 , 0.38656965],\n",
       "       [0.706275  , 0.293725  ],\n",
       "       ...,\n",
       "       [0.6513818 , 0.3486182 ],\n",
       "       [0.7315393 , 0.2684607 ],\n",
       "       [0.5951021 , 0.4048979 ]], dtype=float32)"
      ]
     },
     "execution_count": 41,
     "metadata": {},
     "output_type": "execute_result"
    }
   ],
   "source": [
    "result_grpc = request_grpc.as_numpy('output__0')\n",
    "result_grpc"
   ]
  },
  {
   "cell_type": "code",
   "execution_count": null,
   "metadata": {},
   "outputs": [],
   "source": [
    "# Check that we got the same result with both GRPC and HTTP\n",
    "numpy.testing.assert_almost_equal(result_http, result_grpc)"
   ]
  },
  {
   "cell_type": "code",
   "execution_count": null,
   "metadata": {},
   "outputs": [],
   "source": []
  }
 ],
 "metadata": {
  "kernelspec": {
   "display_name": "Python 3",
   "language": "python",
   "name": "python3"
  },
  "language_info": {
   "codemirror_mode": {
    "name": "ipython",
    "version": 3
   },
   "file_extension": ".py",
   "mimetype": "text/x-python",
   "name": "python",
   "nbconvert_exporter": "python",
   "pygments_lexer": "ipython3",
   "version": "3.8.8"
  }
 },
 "nbformat": 4,
 "nbformat_minor": 4
}
